{
 "cells": [
  {
   "cell_type": "code",
   "execution_count": 10,
   "metadata": {},
   "outputs": [],
   "source": [
    "# Nova lista\n",
    "legumes = ['cenoura', 'beterraba', 'abóbora', 'batata']\n"
   ]
  },
  {
   "cell_type": "code",
   "execution_count": 11,
   "metadata": {},
   "outputs": [
    {
     "name": "stdout",
     "output_type": "stream",
     "text": [
      "cenoura\n",
      "beterraba\n",
      "abóbora\n",
      "batata\n"
     ]
    }
   ],
   "source": [
    "for legume in legumes:\n",
    "    print(legume)"
   ]
  },
  {
   "cell_type": "code",
   "execution_count": 12,
   "metadata": {},
   "outputs": [
    {
     "name": "stdout",
     "output_type": "stream",
     "text": [
      "cenoura\n",
      "beterraba\n",
      "abóbora\n",
      "batata\n"
     ]
    },
    {
     "data": {
      "text/plain": [
       "[None, None, None, None]"
      ]
     },
     "execution_count": 12,
     "metadata": {},
     "output_type": "execute_result"
    }
   ],
   "source": [
    "# Shorhand for\n",
    "[print(legume) for legume in legumes]"
   ]
  },
  {
   "cell_type": "code",
   "execution_count": 13,
   "metadata": {},
   "outputs": [
    {
     "name": "stdout",
     "output_type": "stream",
     "text": [
      "Números pares: [0, 2, 4, 6, 8]\n",
      "Números impares: [1, 3, 5, 7, 9]\n"
     ]
    }
   ],
   "source": [
    "numeros = [0,1,2,3,4,5,6,7,8,9]\n",
    "pares = [ numero for numero in numeros if numero % 2 == 0]\n",
    "impares =[ numero for numero in numeros if numero % 2 != 0]\n",
    "\n",
    "# No javaScript\n",
    "#const pares = numeros.filter(numero => numero % 2 ==0)\n",
    "\n",
    "# for (let numero of numeros)\n",
    "# if (numero % 2 == 0){\n",
    "#   pares.push(numero)\n",
    "#}\n",
    "print(f'Números pares: {pares}')\n",
    "print(f'Números impares: {impares}')"
   ]
  },
  {
   "cell_type": "code",
   "execution_count": 14,
   "metadata": {},
   "outputs": [
    {
     "name": "stdout",
     "output_type": "stream",
     "text": [
      "['cenoura', 'beterraba', 'abóbora', 'batata']\n"
     ]
    }
   ],
   "source": [
    "# Ordenando listas\n",
    "print (legumes)"
   ]
  },
  {
   "cell_type": "code",
   "execution_count": 15,
   "metadata": {},
   "outputs": [
    {
     "name": "stdout",
     "output_type": "stream",
     "text": [
      "['abóbora', 'batata', 'beterraba', 'cenoura']\n"
     ]
    }
   ],
   "source": [
    "# Ordenando em ordem crescente (alfabética)\n",
    "legumes.sort()\n",
    "print(legumes)"
   ]
  },
  {
   "cell_type": "code",
   "execution_count": 16,
   "metadata": {},
   "outputs": [
    {
     "name": "stdout",
     "output_type": "stream",
     "text": [
      "['cenoura', 'beterraba', 'batata', 'abóbora']\n"
     ]
    }
   ],
   "source": [
    "# Ordenando em ordem descrescente (alfabética)\n",
    "legumes.sort(reverse=True)\n",
    "print(legumes)"
   ]
  },
  {
   "cell_type": "code",
   "execution_count": 17,
   "metadata": {},
   "outputs": [
    {
     "name": "stdout",
     "output_type": "stream",
     "text": [
      "['cenoura', 'beterraba', 'batata', 'abóbora']\n"
     ]
    }
   ],
   "source": [
    "# Copiando a lista legumes\n",
    "\n",
    "sopa =legumes.copy()\n",
    "print(sopa)\n"
   ]
  },
  {
   "cell_type": "code",
   "execution_count": 18,
   "metadata": {},
   "outputs": [
    {
     "name": "stdout",
     "output_type": "stream",
     "text": [
      "['abóbora', 'batata', 'beterraba', 'cenoura']\n",
      "['cenoura', 'beterraba', 'batata', 'abóbora']\n"
     ]
    }
   ],
   "source": [
    "# Ordenando com a função global sorted()\n",
    "print(sorted(legumes))\n",
    "print(legumes)\n",
    "# Ordenando com a função global sorted() e passando a função lambda como parâmetro"
   ]
  },
  {
   "cell_type": "code",
   "execution_count": 19,
   "metadata": {},
   "outputs": [],
   "source": [
    "# Listas permitem elementos duplicados \n",
    "legumes.extend(['cenoura', 'beterraba', 'abóbora', 'batata', 'batata','batata'])"
   ]
  },
  {
   "cell_type": "code",
   "execution_count": 20,
   "metadata": {},
   "outputs": [
    {
     "name": "stdout",
     "output_type": "stream",
     "text": [
      "['cenoura', 'beterraba', 'batata', 'abóbora', 'cenoura', 'beterraba', 'abóbora', 'batata', 'batata', 'batata']\n",
      "2\n",
      "4\n"
     ]
    }
   ],
   "source": [
    "# Contando a quantidade de ocorrências de um elemento\n",
    "print(legumes)\n",
    "print(legumes.count('cenoura')) \n",
    "print(legumes.count('batata'))"
   ]
  },
  {
   "cell_type": "code",
   "execution_count": 21,
   "metadata": {},
   "outputs": [
    {
     "name": "stdout",
     "output_type": "stream",
     "text": [
      "1\n"
     ]
    }
   ],
   "source": [
    "# Encontrando o indice de um elemento\n",
    "print(legumes.index('beterraba'))"
   ]
  }
 ],
 "metadata": {
  "kernelspec": {
   "display_name": "Python 3",
   "language": "python",
   "name": "python3"
  },
  "language_info": {
   "codemirror_mode": {
    "name": "ipython",
    "version": 3
   },
   "file_extension": ".py",
   "mimetype": "text/x-python",
   "name": "python",
   "nbconvert_exporter": "python",
   "pygments_lexer": "ipython3",
   "version": "3.12.0"
  }
 },
 "nbformat": 4,
 "nbformat_minor": 2
}
